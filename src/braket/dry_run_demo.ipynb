{
 "cells": [
  {
   "cell_type": "markdown",
   "metadata": {},
   "source": [
    "### Dry Run\n",
    "\n",
    "Development workflow for a trivial workload today:\n",
    "\n",
    "\n",
    "```\n",
    "from braket.aws import AwsDevice, AwsQuantumJob\n",
    "from braket.circuits import Circuit, FreeParameter, Observable\n",
    "\n",
    "num_tasks = 5\n",
    "\n",
    "device = AwsDevice(\"arn:aws:braket:::device/quantum-simulator/amazon/sv1\")\n",
    "\n",
    "# create a parametric circuit\n",
    "circ = Circuit()\n",
    "circ.rx(0, FreeParameter(\"theta\"))\n",
    "circ.cnot(0, 1)\n",
    "circ.expectation(observable=Observable.X(), target=0)\n",
    "\n",
    "# initial parameter\n",
    "theta = 0.0\n",
    "\n",
    "for i in range(num_tasks):\n",
    "    # run task, specifying input parameter\n",
    "    task = device.run(circ, shots=100, inputs={\"theta\": theta})\n",
    "    exp_val = task.result().values[0]\n",
    "\n",
    "    # modify the parameter (e.g. gradient descent)\n",
    "    theta += exp_val\n",
    "```\n",
    "\n",
    "Step 1: Swap out device = AwsDevice() with device = LocalSimulator()\n",
    "Step 2: \n"
   ]
  },
  {
   "cell_type": "code",
   "execution_count": 1,
   "metadata": {},
   "outputs": [
    {
     "name": "stdout",
     "output_type": "stream",
     "text": [
      "False\n",
      "False\n",
      "False\n",
      "False\n",
      "False\n"
     ]
    }
   ],
   "source": [
    "from braket.aws import AwsDevice, AwsQuantumJob\n",
    "from braket.circuits import Circuit, FreeParameter, Observable\n",
    "\n",
    "num_tasks = 5\n",
    "\n",
    "device = AwsDevice(\"arn:aws:braket:::device/quantum-simulator/amazon/sv1\")\n",
    "\n",
    "# create a parametric circuit\n",
    "circ = Circuit()\n",
    "circ.rx(0, FreeParameter(\"theta\"))\n",
    "circ.cnot(0, 1)\n",
    "circ.expectation(observable=Observable.X(), target=0)\n",
    "\n",
    "# initial parameter\n",
    "theta = 0.0\n",
    "\n",
    "for i in range(num_tasks):\n",
    "    # run task, specifying input parameter\n",
    "    task = device.run(circ, shots=100, inputs={\"theta\": theta})\n",
    "    exp_val = task.result().values[0]\n",
    "\n",
    "    # modify the parameter (e.g. gradient descent)\n",
    "    theta += exp_val"
   ]
  },
  {
   "cell_type": "code",
   "execution_count": null,
   "metadata": {},
   "outputs": [],
   "source": []
  }
 ],
 "metadata": {
  "kernelspec": {
   "display_name": "venv",
   "language": "python",
   "name": "python3"
  },
  "language_info": {
   "codemirror_mode": {
    "name": "ipython",
    "version": 3
   },
   "file_extension": ".py",
   "mimetype": "text/x-python",
   "name": "python",
   "nbconvert_exporter": "python",
   "pygments_lexer": "ipython3",
   "version": "3.12.0"
  }
 },
 "nbformat": 4,
 "nbformat_minor": 2
}
